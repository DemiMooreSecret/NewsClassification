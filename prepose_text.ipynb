{
 "cells": [
  {
   "cell_type": "markdown",
   "id": "76a98c91",
   "metadata": {},
   "source": [
    "работа с текстом\n",
    "необходимо, чтобы текстовая колонка находилась под именем 'text'"
   ]
  },
  {
   "cell_type": "code",
   "execution_count": 1,
   "id": "e743fafe",
   "metadata": {},
   "outputs": [],
   "source": [
    "import pandas as pd\n",
    "import numpy as np\n",
    "\n",
    "import re"
   ]
  },
  {
   "cell_type": "markdown",
   "id": "4091533d",
   "metadata": {},
   "source": [
    "в x_test уже лемматизированный текст, но для проверки работы, использую его"
   ]
  },
  {
   "cell_type": "code",
   "execution_count": 21,
   "id": "62599ce0",
   "metadata": {},
   "outputs": [],
   "source": [
    "test = pd.read_csv('Data/x_test.csv', index_col=0)"
   ]
  },
  {
   "cell_type": "code",
   "execution_count": 22,
   "id": "bca80266",
   "metadata": {},
   "outputs": [
    {
     "data": {
      "text/html": [
       "<div>\n",
       "<style scoped>\n",
       "    .dataframe tbody tr th:only-of-type {\n",
       "        vertical-align: middle;\n",
       "    }\n",
       "\n",
       "    .dataframe tbody tr th {\n",
       "        vertical-align: top;\n",
       "    }\n",
       "\n",
       "    .dataframe thead th {\n",
       "        text-align: right;\n",
       "    }\n",
       "</style>\n",
       "<table border=\"1\" class=\"dataframe\">\n",
       "  <thead>\n",
       "    <tr style=\"text-align: right;\">\n",
       "      <th></th>\n",
       "      <th>text</th>\n",
       "    </tr>\n",
       "  </thead>\n",
       "  <tbody>\n",
       "    <tr>\n",
       "      <th>217</th>\n",
       "      <td>продажа успешный кейс компактный динамичный ка...</td>\n",
       "    </tr>\n",
       "    <tr>\n",
       "      <th>28197</th>\n",
       "      <td>макгрегор vs ислам хороший бой хороший выступл...</td>\n",
       "    </tr>\n",
       "    <tr>\n",
       "      <th>8279</th>\n",
       "      <td>выиграть медведев борьба лидерство рейтинг гот...</td>\n",
       "    </tr>\n",
       "    <tr>\n",
       "      <th>19020</th>\n",
       "      <td>неподсказать хороший рацион соревнование борье...</td>\n",
       "    </tr>\n",
       "    <tr>\n",
       "      <th>8920</th>\n",
       "      <td>алексей ягудин считать гениальный старт карьер...</td>\n",
       "    </tr>\n",
       "  </tbody>\n",
       "</table>\n",
       "</div>"
      ],
      "text/plain": [
       "                                                    text\n",
       "217    продажа успешный кейс компактный динамичный ка...\n",
       "28197  макгрегор vs ислам хороший бой хороший выступл...\n",
       "8279   выиграть медведев борьба лидерство рейтинг гот...\n",
       "19020  неподсказать хороший рацион соревнование борье...\n",
       "8920   алексей ягудин считать гениальный старт карьер..."
      ]
     },
     "execution_count": 22,
     "metadata": {},
     "output_type": "execute_result"
    }
   ],
   "source": [
    "test.rename(columns = {'lemmas_string':'text'}, inplace = True )\n",
    "test.head()"
   ]
  },
  {
   "cell_type": "code",
   "execution_count": 3,
   "id": "ca53d6d7",
   "metadata": {},
   "outputs": [],
   "source": [
    "def clean_text(text):\n",
    "    text = text.lower()\n",
    "    # убираем цифры\n",
    "    clean_text = re.sub(\"[0-9]\", \"\", text)\n",
    "    # убираем ссылки\n",
    "    clean_text = re.sub(r\"http[s]?://(?:[a-zA-Z]|[0-9]|[$-_@.&+]|[!*\\(\\),]|(?:%[0-9a-fA-F][0-9a-fA-F]))+\", \"\", text)\n",
    "    # оставляем только буквенные символы\n",
    "    clean_text = re.sub(\"[^а-яa-z]\",\" \", clean_text)\n",
    "    # убираем лишние пробелы\n",
    "    clean_text = re.sub(\" +\", \" \", clean_text)\n",
    "    return clean_text"
   ]
  },
  {
   "cell_type": "markdown",
   "id": "64015ea6",
   "metadata": {},
   "source": [
    "выбор списка стоп-слов"
   ]
  },
  {
   "cell_type": "code",
   "execution_count": 5,
   "id": "fb2a8aa5",
   "metadata": {},
   "outputs": [],
   "source": [
    "import nltk\n",
    "from nltk import tokenize\n",
    "from nltk.tokenize import word_tokenize\n",
    "from nltk.probability import FreqDist"
   ]
  },
  {
   "cell_type": "code",
   "execution_count": 6,
   "id": "55c03da2",
   "metadata": {},
   "outputs": [
    {
     "name": "stdout",
     "output_type": "stream",
     "text": [
      "Количество стоп-слов библиотеки nltk = 151\n"
     ]
    },
    {
     "name": "stderr",
     "output_type": "stream",
     "text": [
      "[nltk_data] Downloading package stopwords to /home/marina/nltk_data...\n",
      "[nltk_data]   Package stopwords is already up-to-date!\n"
     ]
    }
   ],
   "source": [
    "nltk.download('stopwords')\n",
    "from nltk.corpus import stopwords\n",
    "\n",
    "stop_words_nltk = list(stopwords.words('russian'))\n",
    "\n",
    "print('Количество стоп-слов библиотеки nltk =',len(stop_words_nltk))"
   ]
  },
  {
   "cell_type": "markdown",
   "id": "5c701a18",
   "metadata": {},
   "source": [
    "нашла другой список стоп-слов из https://countwordsfree.com/stopwords/russian"
   ]
  },
  {
   "cell_type": "code",
   "execution_count": 23,
   "id": "de244abd",
   "metadata": {},
   "outputs": [
    {
     "name": "stdout",
     "output_type": "stream",
     "text": [
      "Количество стоп-слов из countwordsfree.com = 421\n"
     ]
    }
   ],
   "source": [
    "# opening the file in read mode\n",
    "my_file = open(\"Data/stop_words_russian.txt\", \"r\")\n",
    "\n",
    "# reading the file\n",
    "stopwords = my_file.read()\n",
    "\n",
    "# replacing end splitting the text\n",
    "# when newline ('\\n') is seen.\n",
    "stopwords_list = stopwords.split(\"\\n\")\n",
    "print('Количество стоп-слов из countwordsfree.com =',len(stopwords_list))\n",
    "my_file.close()"
   ]
  },
  {
   "cell_type": "code",
   "execution_count": 8,
   "id": "8444560b",
   "metadata": {},
   "outputs": [],
   "source": [
    "stop_words_of_sport = ['трансляция','видео','канал']\n",
    "stopwords_list+=stop_words_of_sport"
   ]
  },
  {
   "cell_type": "code",
   "execution_count": 9,
   "id": "8917aada",
   "metadata": {},
   "outputs": [
    {
     "name": "stdout",
     "output_type": "stream",
     "text": [
      "Requirement already satisfied: pymorphy2 in /home/marina/myprojectdir/myprojectenv/lib/python3.9/site-packages (0.9.1)\r\n",
      "Requirement already satisfied: dawg-python>=0.7.1 in /home/marina/myprojectdir/myprojectenv/lib/python3.9/site-packages (from pymorphy2) (0.7.2)\r\n",
      "Requirement already satisfied: pymorphy2-dicts-ru<3.0,>=2.4 in /home/marina/myprojectdir/myprojectenv/lib/python3.9/site-packages (from pymorphy2) (2.4.417127.4579844)\r\n",
      "Requirement already satisfied: docopt>=0.6 in /home/marina/myprojectdir/myprojectenv/lib/python3.9/site-packages (from pymorphy2) (0.6.2)\r\n"
     ]
    }
   ],
   "source": [
    "!pip install pymorphy2"
   ]
  },
  {
   "cell_type": "code",
   "execution_count": 10,
   "id": "ca1978f7",
   "metadata": {},
   "outputs": [],
   "source": [
    "from pymorphy2 import MorphAnalyzer\n",
    "\n",
    "lemmatyzer = MorphAnalyzer()"
   ]
  },
  {
   "cell_type": "code",
   "execution_count": 11,
   "id": "9223fc0f",
   "metadata": {},
   "outputs": [],
   "source": [
    "def post_to_wordlist(post_sentence, remove_stopwords=False ):\n",
    "    # разбиваем предложение на слова по символу пробела\n",
    "    words = post_sentence.split()\n",
    "    if remove_stopwords: # убираем стоп-слова\n",
    "        words = [w for w in words if not w in remove_stopwords and len(w)>1]\n",
    "\n",
    "    lemma_words = [lemmatyzer.parse(w)[0].normal_form for w in words]\n",
    "\n",
    "    if remove_stopwords: # убираем стоп-слова\n",
    "        lemma_words_nostops = [w for w in lemma_words if not w in remove_stopwords]\n",
    "\n",
    "    return(lemma_words_nostops)"
   ]
  },
  {
   "cell_type": "code",
   "execution_count": 19,
   "id": "7c14729f",
   "metadata": {},
   "outputs": [],
   "source": [
    "def prepose_text(df_text):\n",
    "    df_text['clean_text'] = df_text['text'].map(clean_text)\n",
    "    df_no_adv = df_text.drop_duplicates(subset='clean_text')\n",
    "    df_no_adv['tokenized_text'] = df_no_adv['clean_text'].apply(lambda row: post_to_wordlist(row, stopwords_list))\n",
    "    df_no_adv['lemmas_string'] = df_no_adv['tokenized_text'].apply(lambda row: ' '.join(row))\n",
    "    return df_no_adv"
   ]
  },
  {
   "cell_type": "code",
   "execution_count": 20,
   "id": "e756c2e8",
   "metadata": {},
   "outputs": [
    {
     "name": "stderr",
     "output_type": "stream",
     "text": [
      "/tmp/ipykernel_55223/906220149.py:4: SettingWithCopyWarning: \n",
      "A value is trying to be set on a copy of a slice from a DataFrame.\n",
      "Try using .loc[row_indexer,col_indexer] = value instead\n",
      "\n",
      "See the caveats in the documentation: https://pandas.pydata.org/pandas-docs/stable/user_guide/indexing.html#returning-a-view-versus-a-copy\n",
      "  df_no_adv['tokenized_text'] = df_no_adv['clean_text'].apply(lambda row: post_to_wordlist(row, stopwords_list))\n",
      "/tmp/ipykernel_55223/906220149.py:5: SettingWithCopyWarning: \n",
      "A value is trying to be set on a copy of a slice from a DataFrame.\n",
      "Try using .loc[row_indexer,col_indexer] = value instead\n",
      "\n",
      "See the caveats in the documentation: https://pandas.pydata.org/pandas-docs/stable/user_guide/indexing.html#returning-a-view-versus-a-copy\n",
      "  df_no_adv['lemmas_string'] = df_no_adv['tokenized_text'].apply(lambda row: ' '.join(row))\n"
     ]
    },
    {
     "data": {
      "text/html": [
       "<div>\n",
       "<style scoped>\n",
       "    .dataframe tbody tr th:only-of-type {\n",
       "        vertical-align: middle;\n",
       "    }\n",
       "\n",
       "    .dataframe tbody tr th {\n",
       "        vertical-align: top;\n",
       "    }\n",
       "\n",
       "    .dataframe thead th {\n",
       "        text-align: right;\n",
       "    }\n",
       "</style>\n",
       "<table border=\"1\" class=\"dataframe\">\n",
       "  <thead>\n",
       "    <tr style=\"text-align: right;\">\n",
       "      <th></th>\n",
       "      <th>text</th>\n",
       "      <th>clean_text</th>\n",
       "      <th>tokenized_text</th>\n",
       "      <th>lemmas_string</th>\n",
       "    </tr>\n",
       "  </thead>\n",
       "  <tbody>\n",
       "    <tr>\n",
       "      <th>217</th>\n",
       "      <td>продажа успешный кейс компактный динамичный ка...</td>\n",
       "      <td>продажа успешный кейс компактный динамичный ка...</td>\n",
       "      <td>[продажа, успешный, кейс, компактный, динамичн...</td>\n",
       "      <td>продажа успешный кейс компактный динамичный ка...</td>\n",
       "    </tr>\n",
       "    <tr>\n",
       "      <th>28197</th>\n",
       "      <td>макгрегор vs ислам хороший бой хороший выступл...</td>\n",
       "      <td>макгрегор vs ислам хороший бой хороший выступл...</td>\n",
       "      <td>[макгрегор, vs, ислам, хороший, бой, хороший, ...</td>\n",
       "      <td>макгрегор vs ислам хороший бой хороший выступл...</td>\n",
       "    </tr>\n",
       "    <tr>\n",
       "      <th>8279</th>\n",
       "      <td>выиграть медведев борьба лидерство рейтинг гот...</td>\n",
       "      <td>выиграть медведев борьба лидерство рейтинг гот...</td>\n",
       "      <td>[выиграть, медведев, борьба, лидерство, рейтин...</td>\n",
       "      <td>выиграть медведев борьба лидерство рейтинг гот...</td>\n",
       "    </tr>\n",
       "    <tr>\n",
       "      <th>19020</th>\n",
       "      <td>неподсказать хороший рацион соревнование борье...</td>\n",
       "      <td>неподсказать хороший рацион соревнование борье...</td>\n",
       "      <td>[неподсказать, хороший, рацион, соревнование, ...</td>\n",
       "      <td>неподсказать хороший рацион соревнование борье...</td>\n",
       "    </tr>\n",
       "    <tr>\n",
       "      <th>8920</th>\n",
       "      <td>алексей ягудин считать гениальный старт карьер...</td>\n",
       "      <td>алексей ягудин считать гениальный старт карьер...</td>\n",
       "      <td>[алексей, ягудин, считать, гениальный, старт, ...</td>\n",
       "      <td>алексей ягудин считать гениальный старт карьер...</td>\n",
       "    </tr>\n",
       "  </tbody>\n",
       "</table>\n",
       "</div>"
      ],
      "text/plain": [
       "                                                    text  \\\n",
       "217    продажа успешный кейс компактный динамичный ка...   \n",
       "28197  макгрегор vs ислам хороший бой хороший выступл...   \n",
       "8279   выиграть медведев борьба лидерство рейтинг гот...   \n",
       "19020  неподсказать хороший рацион соревнование борье...   \n",
       "8920   алексей ягудин считать гениальный старт карьер...   \n",
       "\n",
       "                                              clean_text  \\\n",
       "217    продажа успешный кейс компактный динамичный ка...   \n",
       "28197  макгрегор vs ислам хороший бой хороший выступл...   \n",
       "8279   выиграть медведев борьба лидерство рейтинг гот...   \n",
       "19020  неподсказать хороший рацион соревнование борье...   \n",
       "8920   алексей ягудин считать гениальный старт карьер...   \n",
       "\n",
       "                                          tokenized_text  \\\n",
       "217    [продажа, успешный, кейс, компактный, динамичн...   \n",
       "28197  [макгрегор, vs, ислам, хороший, бой, хороший, ...   \n",
       "8279   [выиграть, медведев, борьба, лидерство, рейтин...   \n",
       "19020  [неподсказать, хороший, рацион, соревнование, ...   \n",
       "8920   [алексей, ягудин, считать, гениальный, старт, ...   \n",
       "\n",
       "                                           lemmas_string  \n",
       "217    продажа успешный кейс компактный динамичный ка...  \n",
       "28197  макгрегор vs ислам хороший бой хороший выступл...  \n",
       "8279   выиграть медведев борьба лидерство рейтинг гот...  \n",
       "19020  неподсказать хороший рацион соревнование борье...  \n",
       "8920   алексей ягудин считать гениальный старт карьер...  "
      ]
     },
     "execution_count": 20,
     "metadata": {},
     "output_type": "execute_result"
    }
   ],
   "source": [
    "test_lemma = prepose_text(test)\n",
    "test_lemma.head()"
   ]
  },
  {
   "cell_type": "code",
   "execution_count": null,
   "id": "12fa4ca7",
   "metadata": {},
   "outputs": [],
   "source": []
  }
 ],
 "metadata": {
  "kernelspec": {
   "display_name": "Python 3 (ipykernel)",
   "language": "python",
   "name": "python3"
  },
  "language_info": {
   "codemirror_mode": {
    "name": "ipython",
    "version": 3
   },
   "file_extension": ".py",
   "mimetype": "text/x-python",
   "name": "python",
   "nbconvert_exporter": "python",
   "pygments_lexer": "ipython3",
   "version": "3.9.2"
  }
 },
 "nbformat": 4,
 "nbformat_minor": 5
}
